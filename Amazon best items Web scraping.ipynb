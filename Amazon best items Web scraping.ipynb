{
 "cells": [
  {
   "cell_type": "markdown",
   "id": "f10b3ddf-1552-4f46-8065-778560841039",
   "metadata": {},
   "source": [
    "# Amazon best items web scraping with the help of Selenium"
   ]
  },
  {
   "cell_type": "markdown",
   "id": "5e02b99e-5194-4bd9-afc1-52b722a58d2b",
   "metadata": {},
   "source": [
    "The goal here is to get the information of the best selling items from Amazon website. The programm has to go to the different categories and collect the data and save it in a CSV file."
   ]
  },
  {
   "cell_type": "code",
   "execution_count": 1,
   "id": "119240e1-c396-41db-8ea3-f276c7ea7d27",
   "metadata": {},
   "outputs": [],
   "source": [
    "from selenium import webdriver\n",
    "from selenium.webdriver.common.by import By\n",
    "from selenium.webdriver.chrome.options import Options\n",
    "import pandas as pd"
   ]
  },
  {
   "cell_type": "markdown",
   "id": "337c537c-64b8-4c02-a9f8-29b1a49fd3e0",
   "metadata": {},
   "source": [
    "### Go through the page and get the departments names and links\n",
    "-Runing Selenium with Options to avoid opening a new window for every new page"
   ]
  },
  {
   "cell_type": "code",
   "execution_count": 2,
   "id": "1b86d180-3d3b-41ae-8c86-a1d1cb0b8f4a",
   "metadata": {},
   "outputs": [
    {
     "name": "stderr",
     "output_type": "stream",
     "text": [
      "C:\\Users\\F\\AppData\\Local\\Temp/ipykernel_15212/3444022832.py:7: DeprecationWarning: executable_path has been deprecated, please pass in a Service object\n",
      "  driver = webdriver.Chrome(options=options, executable_path=path)\n"
     ]
    }
   ],
   "source": [
    "options = Options()\n",
    "options.headless = True\n",
    "options.add_argument(\"--window-size=1920,1200\")\n",
    "\n",
    "website = \"https://www.amazon.com/Best-Sellers/zgbs/\"\n",
    "path = \"C:/Users/F/PycharmProjects/chromedriver.exe\"\n",
    "driver = webdriver.Chrome(options=options, executable_path=path)\n",
    "driver.get(website)\n",
    "\n",
    "#We need to get all the names of the different departments (or categories) names\n",
    "department_list = []\n",
    "#We also need a list with all the different links from the different departments\n",
    "website_list = []\n",
    "\n",
    "department_element = driver.find_elements(By.XPATH, '/html/body/div[1]/div[2]/div[2]/div/div/div/div[2]/div/div[2]/div/div/div[2]/div/a')\n",
    "for i in department_element:\n",
    "    website_list.append(i.get_attribute('href'))\n",
    "    department_list.append(i.text)\n",
    "                        \n",
    "driver.quit()"
   ]
  },
  {
   "cell_type": "markdown",
   "id": "8948aa57-5857-4274-9977-7ff314d3b91c",
   "metadata": {},
   "source": [
    "### Collecting ranking, name, numbers of reviews and prices of the items"
   ]
  },
  {
   "cell_type": "code",
   "execution_count": 3,
   "id": "698ff602-c7de-4155-9876-dd6a7c5123a1",
   "metadata": {},
   "outputs": [
    {
     "name": "stderr",
     "output_type": "stream",
     "text": [
      "C:\\Users\\F\\AppData\\Local\\Temp/ipykernel_15212/1047455770.py:6: DeprecationWarning: executable_path has been deprecated, please pass in a Service object\n",
      "  driver = webdriver.Chrome(options=options, executable_path=path)\n",
      "C:\\Users\\F\\AppData\\Local\\Temp/ipykernel_15212/1047455770.py:6: DeprecationWarning: executable_path has been deprecated, please pass in a Service object\n",
      "  driver = webdriver.Chrome(options=options, executable_path=path)\n",
      "C:\\Users\\F\\AppData\\Local\\Temp/ipykernel_15212/1047455770.py:6: DeprecationWarning: executable_path has been deprecated, please pass in a Service object\n",
      "  driver = webdriver.Chrome(options=options, executable_path=path)\n",
      "C:\\Users\\F\\AppData\\Local\\Temp/ipykernel_15212/1047455770.py:6: DeprecationWarning: executable_path has been deprecated, please pass in a Service object\n",
      "  driver = webdriver.Chrome(options=options, executable_path=path)\n",
      "C:\\Users\\F\\AppData\\Local\\Temp/ipykernel_15212/1047455770.py:6: DeprecationWarning: executable_path has been deprecated, please pass in a Service object\n",
      "  driver = webdriver.Chrome(options=options, executable_path=path)\n",
      "C:\\Users\\F\\AppData\\Local\\Temp/ipykernel_15212/1047455770.py:6: DeprecationWarning: executable_path has been deprecated, please pass in a Service object\n",
      "  driver = webdriver.Chrome(options=options, executable_path=path)\n",
      "C:\\Users\\F\\AppData\\Local\\Temp/ipykernel_15212/1047455770.py:6: DeprecationWarning: executable_path has been deprecated, please pass in a Service object\n",
      "  driver = webdriver.Chrome(options=options, executable_path=path)\n",
      "C:\\Users\\F\\AppData\\Local\\Temp/ipykernel_15212/1047455770.py:6: DeprecationWarning: executable_path has been deprecated, please pass in a Service object\n",
      "  driver = webdriver.Chrome(options=options, executable_path=path)\n",
      "C:\\Users\\F\\AppData\\Local\\Temp/ipykernel_15212/1047455770.py:6: DeprecationWarning: executable_path has been deprecated, please pass in a Service object\n",
      "  driver = webdriver.Chrome(options=options, executable_path=path)\n",
      "C:\\Users\\F\\AppData\\Local\\Temp/ipykernel_15212/1047455770.py:6: DeprecationWarning: executable_path has been deprecated, please pass in a Service object\n",
      "  driver = webdriver.Chrome(options=options, executable_path=path)\n",
      "C:\\Users\\F\\AppData\\Local\\Temp/ipykernel_15212/1047455770.py:6: DeprecationWarning: executable_path has been deprecated, please pass in a Service object\n",
      "  driver = webdriver.Chrome(options=options, executable_path=path)\n",
      "C:\\Users\\F\\AppData\\Local\\Temp/ipykernel_15212/1047455770.py:6: DeprecationWarning: executable_path has been deprecated, please pass in a Service object\n",
      "  driver = webdriver.Chrome(options=options, executable_path=path)\n",
      "C:\\Users\\F\\AppData\\Local\\Temp/ipykernel_15212/1047455770.py:6: DeprecationWarning: executable_path has been deprecated, please pass in a Service object\n",
      "  driver = webdriver.Chrome(options=options, executable_path=path)\n",
      "C:\\Users\\F\\AppData\\Local\\Temp/ipykernel_15212/1047455770.py:6: DeprecationWarning: executable_path has been deprecated, please pass in a Service object\n",
      "  driver = webdriver.Chrome(options=options, executable_path=path)\n",
      "C:\\Users\\F\\AppData\\Local\\Temp/ipykernel_15212/1047455770.py:6: DeprecationWarning: executable_path has been deprecated, please pass in a Service object\n",
      "  driver = webdriver.Chrome(options=options, executable_path=path)\n",
      "C:\\Users\\F\\AppData\\Local\\Temp/ipykernel_15212/1047455770.py:6: DeprecationWarning: executable_path has been deprecated, please pass in a Service object\n",
      "  driver = webdriver.Chrome(options=options, executable_path=path)\n",
      "C:\\Users\\F\\AppData\\Local\\Temp/ipykernel_15212/1047455770.py:6: DeprecationWarning: executable_path has been deprecated, please pass in a Service object\n",
      "  driver = webdriver.Chrome(options=options, executable_path=path)\n",
      "C:\\Users\\F\\AppData\\Local\\Temp/ipykernel_15212/1047455770.py:6: DeprecationWarning: executable_path has been deprecated, please pass in a Service object\n",
      "  driver = webdriver.Chrome(options=options, executable_path=path)\n",
      "C:\\Users\\F\\AppData\\Local\\Temp/ipykernel_15212/1047455770.py:6: DeprecationWarning: executable_path has been deprecated, please pass in a Service object\n",
      "  driver = webdriver.Chrome(options=options, executable_path=path)\n",
      "C:\\Users\\F\\AppData\\Local\\Temp/ipykernel_15212/1047455770.py:6: DeprecationWarning: executable_path has been deprecated, please pass in a Service object\n",
      "  driver = webdriver.Chrome(options=options, executable_path=path)\n",
      "C:\\Users\\F\\AppData\\Local\\Temp/ipykernel_15212/1047455770.py:6: DeprecationWarning: executable_path has been deprecated, please pass in a Service object\n",
      "  driver = webdriver.Chrome(options=options, executable_path=path)\n",
      "C:\\Users\\F\\AppData\\Local\\Temp/ipykernel_15212/1047455770.py:6: DeprecationWarning: executable_path has been deprecated, please pass in a Service object\n",
      "  driver = webdriver.Chrome(options=options, executable_path=path)\n",
      "C:\\Users\\F\\AppData\\Local\\Temp/ipykernel_15212/1047455770.py:6: DeprecationWarning: executable_path has been deprecated, please pass in a Service object\n",
      "  driver = webdriver.Chrome(options=options, executable_path=path)\n",
      "C:\\Users\\F\\AppData\\Local\\Temp/ipykernel_15212/1047455770.py:6: DeprecationWarning: executable_path has been deprecated, please pass in a Service object\n",
      "  driver = webdriver.Chrome(options=options, executable_path=path)\n",
      "C:\\Users\\F\\AppData\\Local\\Temp/ipykernel_15212/1047455770.py:6: DeprecationWarning: executable_path has been deprecated, please pass in a Service object\n",
      "  driver = webdriver.Chrome(options=options, executable_path=path)\n",
      "C:\\Users\\F\\AppData\\Local\\Temp/ipykernel_15212/1047455770.py:6: DeprecationWarning: executable_path has been deprecated, please pass in a Service object\n",
      "  driver = webdriver.Chrome(options=options, executable_path=path)\n",
      "C:\\Users\\F\\AppData\\Local\\Temp/ipykernel_15212/1047455770.py:6: DeprecationWarning: executable_path has been deprecated, please pass in a Service object\n",
      "  driver = webdriver.Chrome(options=options, executable_path=path)\n",
      "C:\\Users\\F\\AppData\\Local\\Temp/ipykernel_15212/1047455770.py:6: DeprecationWarning: executable_path has been deprecated, please pass in a Service object\n",
      "  driver = webdriver.Chrome(options=options, executable_path=path)\n"
     ]
    }
   ],
   "source": [
    "product_title_list = []\n",
    "df = pd.DataFrame(columns=['department', 'dep raking', 'name', 'review nb', 'price'])\n",
    "id_department = 0\n",
    "for link in website_list:\n",
    "    path = \"C:/Users/F/PycharmProjects/chromedriver.exe\"\n",
    "    driver = webdriver.Chrome(options=options, executable_path=path)\n",
    "    driver.get(link)\n",
    "    get_department = department_list[id_department]\n",
    "    id_department = id_department + 1\n",
    "    for ii in range(1,22): #we just take the 20 first items\n",
    "        try: \n",
    "            title_element = driver.find_element(By.XPATH, f\"/html/body/div[1]/div[3]/div/div/div[1]/div/div/div[2]/div[1]/div[1]/div[{ii}]/div/div[2]/div/a[2]/span/div\")\n",
    "            ranking_element = driver.find_element(By.XPATH, f\"/html/body/div[1]/div[3]/div/div/div[1]/div/div/div[2]/div[1]/div[1]/div[{ii}]/div/div[1]/div[1]/span\")\n",
    "            review_nb_element = driver.find_element(By.XPATH, f\"/html/body/div[1]/div[3]/div/div/div[1]/div/div/div[2]/div[1]/div[1]/div[{ii}]/div/div[2]/div/div[1]/div/a/span\")\n",
    "            price_element = driver.find_element(By.XPATH, f\"/html/body/div[1]/div[3]/div/div/div[1]/div/div/div[2]/div[1]/div[1]/div[{ii}]/div/div[2]/div/div[2]/a/span/span/span\")\n",
    "        except:\n",
    "            continue\n",
    "        A = ranking_element.text\n",
    "        B = title_element.text\n",
    "        C = review_nb_element.text\n",
    "        D = price_element.text\n",
    "        df = pd.concat([df, pd.DataFrame.from_records([{'department': f'{get_department}', 'dep raking': f'{A}', 'name': f'{B}', 'review nb': f'{C}', 'price' : f'{D}'}])])\n",
    "        \n",
    "    driver.quit()\n",
    "\n",
    "df.to_excel(\"Amazon best sellers.xlsx\")"
   ]
  }
 ],
 "metadata": {
  "kernelspec": {
   "display_name": "Python 3 (ipykernel)",
   "language": "python",
   "name": "python3"
  },
  "language_info": {
   "codemirror_mode": {
    "name": "ipython",
    "version": 3
   },
   "file_extension": ".py",
   "mimetype": "text/x-python",
   "name": "python",
   "nbconvert_exporter": "python",
   "pygments_lexer": "ipython3",
   "version": "3.10.0"
  }
 },
 "nbformat": 4,
 "nbformat_minor": 5
}
